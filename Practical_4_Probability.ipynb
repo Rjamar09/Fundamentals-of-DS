{
 "cells": [
  {
   "cell_type": "code",
   "execution_count": 1,
   "id": "8bb088d6",
   "metadata": {},
   "outputs": [
    {
     "name": "stdout",
     "output_type": "stream",
     "text": [
      "The probability of getting 3 is  0.16666666666666666\n"
     ]
    }
   ],
   "source": [
    "#Probability of 3 when a die is rolled\n",
    "ns=6   #{1,2,3,4,5,6}\n",
    "na=1   #{3}\n",
    "pa=na/ns # P(A)\n",
    "print(\"The probability of getting 3 is \",pa)"
   ]
  },
  {
   "cell_type": "code",
   "execution_count": 2,
   "id": "2fbd2e4c",
   "metadata": {},
   "outputs": [
    {
     "name": "stdout",
     "output_type": "stream",
     "text": [
      "The probability of getting atleast one head when 3 fair coins are tossed  0.875\n"
     ]
    }
   ],
   "source": [
    "#Probability of getting atleast one head when 3 fair coins are tossed\n",
    "ns=8 #s={\"HHH\",\"HHT\",\"HTT\",\"TTT\",\"TTH\",\"THH\",\"HTH\",\"THT\"}\n",
    "nb=7 #A={\"HHH\",\"HHT\",\"HTT\",\"TTH\",\"THH\",\"HTH\",\"THT\"}\n",
    "pb= nb/ns #P(B)\n",
    "print(\"The probability of getting atleast one head when 3 fair coins are tossed \",pb)"
   ]
  },
  {
   "cell_type": "code",
   "execution_count": 3,
   "id": "091e23bd",
   "metadata": {},
   "outputs": [
    {
     "name": "stdout",
     "output_type": "stream",
     "text": [
      "The probability of drawing a ball that is not blue  0.7\n"
     ]
    }
   ],
   "source": [
    "'''A glass jar contains 5 red, 3 blue and 2 green jelly beans, If a jelly is drawn at \n",
    "random from a jar what is the probability that it is not blue'''\n",
    "ns=10 #S={red,red,red,red,red,blue,blue,blue,green,green}\n",
    "nc=7\n",
    "pc= nc/ns #P(C)\n",
    "print(\"The probability of drawing a ball that is not blue \",pc)"
   ]
  },
  {
   "cell_type": "code",
   "execution_count": 4,
   "id": "459a2bf5",
   "metadata": {},
   "outputs": [
    {
     "name": "stdout",
     "output_type": "stream",
     "text": [
      "prob they both will is alive in 20 years is : 0.35\n"
     ]
    }
   ],
   "source": [
    "# example :4\n",
    "# if  the prob that person A will be alive i 20 years is 0.7\n",
    "# and the prob of person B will be alive in 20 years is 0.5\n",
    "# what is prob that they both will be alive in  20 years?\n",
    " \n",
    "# these are independent event ,50\n",
    " \n",
    "p= 0.7*0.5\n",
    "print(\"prob they both will is alive in 20 years is :\",p)"
   ]
  },
  {
   "cell_type": "code",
   "execution_count": 5,
   "id": "03ef2026",
   "metadata": {},
   "outputs": [],
   "source": [
    "def event_probability(A,S):\n",
    "    return A/S"
   ]
  },
  {
   "cell_type": "code",
   "execution_count": 6,
   "id": "91fe2356",
   "metadata": {},
   "outputs": [
    {
     "name": "stdout",
     "output_type": "stream",
     "text": [
      "prob of getting a4 or 5 on the first toss and a 1,2 or 3 in the second toss is : 0.16666666666666666\n"
     ]
    }
   ],
   "source": [
    "# example 5\n",
    "\n",
    "# A die i tossed  twise find the prob of getting a 4 or 5 on the first toss\n",
    "# and a 1,2 or 3 in second tossed\n",
    "\n",
    "# using my func \n",
    "\n",
    "# prob of getting a 4 or 5 on the first toss ,2 event total sample is 6\n",
    "pa= event_probability(2,6)\n",
    "\n",
    "\n",
    "# prob of getting a 1,2 or 3 on second  toss 3 event total sample is 6\n",
    "pb=event_probability(3,6)\n",
    "\n",
    "\n",
    "# total prob of both will be\n",
    "p=pa*pb\n",
    "print(\"prob of getting a4 or 5 on the first toss and a 1,2 or 3 in the second toss is :\",p)\n"
   ]
  },
  {
   "cell_type": "code",
   "execution_count": 7,
   "id": "36881099",
   "metadata": {},
   "outputs": [
    {
     "name": "stdout",
     "output_type": "stream",
     "text": [
      "the probability of obtaining white, black and green in that order is 0.041666666666666664\n"
     ]
    }
   ],
   "source": [
    "#A bag contains 5 white marbles, 3 black marbles and 2 green marbles. \n",
    "#In each draw, a marble is drawn from the bag and not replaced. In three draws, find the probability of obtaining white,\n",
    "#black and green in that order.\n",
    "\n",
    "pw= event_probability(5,10)\n",
    "\n",
    "pb = event_probability(3,9)\n",
    "\n",
    "pg=event_probability(2,8) \n",
    "print(\"the probability of obtaining white, black and green in that order is\",pw*pb*pg)\n"
   ]
  },
  {
   "cell_type": "code",
   "execution_count": 8,
   "id": "0fb14dfc",
   "metadata": {},
   "outputs": [
    {
     "name": "stdout",
     "output_type": "stream",
     "text": [
      "probability of drawing a heart or a club\n",
      "0.5\n",
      "   \n",
      "Probability of drawing a king or a queen or a ace\n",
      "0.23\n",
      "  \n",
      "Probability of drawing a ace or a heart\n",
      "0.31\n",
      "   \n",
      "Probability of getting a red card or a face card\n",
      "0.62\n"
     ]
    }
   ],
   "source": [
    "#Sample Space \n",
    "cards = 52\n",
    "\n",
    "#If 1 card is drawn at random\n",
    "#Calculate the probability of drawing a heart or a club\n",
    "hearts = 13\n",
    "clubs = 13 \n",
    "heart_or_club = event_probability(hearts, cards) + event_probability(clubs,cards)\n",
    "print(\"probability of drawing a heart or a club\")\n",
    "print(heart_or_club)\n",
    "print(\"   \")\n",
    "\n",
    "\n",
    "\n",
    "king=4\n",
    "queen=4\n",
    "ace=4\n",
    "akq=event_probability(king,cards)+event_probability(queen,cards)+event_probability(ace,cards)\n",
    "print(\"Probability of drawing a king or a queen or a ace\")\n",
    "print(round(akq,2))\n",
    "print(\"  \")\n",
    "\n",
    "\n",
    "\n",
    "print(\"Probability of drawing a ace or a heart\")\n",
    "#Probability of drawing a ace or a heart\n",
    "pofheart=event_probability(hearts,cards)\n",
    "poface=event_probability(ace,cards)\n",
    "aceandheart=event_probability(1,cards)\n",
    "aceorheart=poface+pofheart-aceandheart\n",
    "print(round(aceorheart,2))\n",
    "print(\"   \")\n",
    "\n",
    "print(\"Probability of getting a red card or a face card\")\n",
    "red=26\n",
    "face=12\n",
    "redandface=6\n",
    "pofredorface=event_probability(red,cards)+event_probability(face,cards)-event_probability(redandface,cards)\n",
    "print(round(pofredorface,2))"
   ]
  },
  {
   "cell_type": "code",
   "execution_count": 9,
   "id": "f290fb1e",
   "metadata": {},
   "outputs": [
    {
     "name": "stdout",
     "output_type": "stream",
     "text": [
      "prob of not getting 5 is : 0.83\n"
     ]
    }
   ],
   "source": [
    "\n",
    "# prob of not geting 5 when die is rolled.\n",
    "# s +{1,2,3,4,5,,6}\n",
    "ns = 6\n",
    "\n",
    "# getting 5\n",
    "na=1\n",
    "\n",
    "pa= event_probability(na,ns)\n",
    "print(\"prob of not getting 5 is :\",round(1-event_probability(na,ns),2))\n",
    "# both the way are same \n",
    "# prob of not getting 5 is - prob of getting 5\n",
    "#print(\"prob of not getting 5 is :\",round(1-pa,2))"
   ]
  },
  {
   "cell_type": "code",
   "execution_count": 10,
   "id": "c19a0786",
   "metadata": {},
   "outputs": [],
   "source": [
    "import numpy as np\n",
    "import pandas as pd\n"
   ]
  },
  {
   "cell_type": "code",
   "execution_count": 11,
   "id": "50cfbb28",
   "metadata": {},
   "outputs": [],
   "source": [
    "df=pd.read_csv(\"C:\\\\Users\\DSAI\\\\Desktop\\\\M.Sc_Amar_718\\\\Datasets-20220805T064950Z-001\\\\Datasets\\\\student-mat.csv\")"
   ]
  },
  {
   "cell_type": "code",
   "execution_count": 12,
   "id": "6c8595bb",
   "metadata": {},
   "outputs": [
    {
     "data": {
      "text/html": [
       "<div>\n",
       "<style scoped>\n",
       "    .dataframe tbody tr th:only-of-type {\n",
       "        vertical-align: middle;\n",
       "    }\n",
       "\n",
       "    .dataframe tbody tr th {\n",
       "        vertical-align: top;\n",
       "    }\n",
       "\n",
       "    .dataframe thead th {\n",
       "        text-align: right;\n",
       "    }\n",
       "</style>\n",
       "<table border=\"1\" class=\"dataframe\">\n",
       "  <thead>\n",
       "    <tr style=\"text-align: right;\">\n",
       "      <th></th>\n",
       "      <th>school</th>\n",
       "      <th>sex</th>\n",
       "      <th>age</th>\n",
       "      <th>address</th>\n",
       "      <th>famsize</th>\n",
       "      <th>Pstatus</th>\n",
       "      <th>Medu</th>\n",
       "      <th>Fedu</th>\n",
       "      <th>Mjob</th>\n",
       "      <th>Fjob</th>\n",
       "      <th>...</th>\n",
       "      <th>famrel</th>\n",
       "      <th>freetime</th>\n",
       "      <th>goout</th>\n",
       "      <th>Dalc</th>\n",
       "      <th>Walc</th>\n",
       "      <th>health</th>\n",
       "      <th>absences</th>\n",
       "      <th>G1</th>\n",
       "      <th>G2</th>\n",
       "      <th>G3</th>\n",
       "    </tr>\n",
       "  </thead>\n",
       "  <tbody>\n",
       "    <tr>\n",
       "      <th>0</th>\n",
       "      <td>GP</td>\n",
       "      <td>F</td>\n",
       "      <td>18</td>\n",
       "      <td>U</td>\n",
       "      <td>GT3</td>\n",
       "      <td>A</td>\n",
       "      <td>4</td>\n",
       "      <td>4</td>\n",
       "      <td>at_home</td>\n",
       "      <td>teacher</td>\n",
       "      <td>...</td>\n",
       "      <td>4</td>\n",
       "      <td>3</td>\n",
       "      <td>4</td>\n",
       "      <td>1</td>\n",
       "      <td>1</td>\n",
       "      <td>3</td>\n",
       "      <td>6</td>\n",
       "      <td>5</td>\n",
       "      <td>6</td>\n",
       "      <td>6</td>\n",
       "    </tr>\n",
       "    <tr>\n",
       "      <th>1</th>\n",
       "      <td>GP</td>\n",
       "      <td>F</td>\n",
       "      <td>17</td>\n",
       "      <td>U</td>\n",
       "      <td>GT3</td>\n",
       "      <td>T</td>\n",
       "      <td>1</td>\n",
       "      <td>1</td>\n",
       "      <td>at_home</td>\n",
       "      <td>other</td>\n",
       "      <td>...</td>\n",
       "      <td>5</td>\n",
       "      <td>3</td>\n",
       "      <td>3</td>\n",
       "      <td>1</td>\n",
       "      <td>1</td>\n",
       "      <td>3</td>\n",
       "      <td>4</td>\n",
       "      <td>5</td>\n",
       "      <td>5</td>\n",
       "      <td>6</td>\n",
       "    </tr>\n",
       "    <tr>\n",
       "      <th>2</th>\n",
       "      <td>GP</td>\n",
       "      <td>F</td>\n",
       "      <td>15</td>\n",
       "      <td>U</td>\n",
       "      <td>LE3</td>\n",
       "      <td>T</td>\n",
       "      <td>1</td>\n",
       "      <td>1</td>\n",
       "      <td>at_home</td>\n",
       "      <td>other</td>\n",
       "      <td>...</td>\n",
       "      <td>4</td>\n",
       "      <td>3</td>\n",
       "      <td>2</td>\n",
       "      <td>2</td>\n",
       "      <td>3</td>\n",
       "      <td>3</td>\n",
       "      <td>10</td>\n",
       "      <td>7</td>\n",
       "      <td>8</td>\n",
       "      <td>10</td>\n",
       "    </tr>\n",
       "    <tr>\n",
       "      <th>3</th>\n",
       "      <td>GP</td>\n",
       "      <td>F</td>\n",
       "      <td>15</td>\n",
       "      <td>U</td>\n",
       "      <td>GT3</td>\n",
       "      <td>T</td>\n",
       "      <td>4</td>\n",
       "      <td>2</td>\n",
       "      <td>health</td>\n",
       "      <td>services</td>\n",
       "      <td>...</td>\n",
       "      <td>3</td>\n",
       "      <td>2</td>\n",
       "      <td>2</td>\n",
       "      <td>1</td>\n",
       "      <td>1</td>\n",
       "      <td>5</td>\n",
       "      <td>2</td>\n",
       "      <td>15</td>\n",
       "      <td>14</td>\n",
       "      <td>15</td>\n",
       "    </tr>\n",
       "    <tr>\n",
       "      <th>4</th>\n",
       "      <td>GP</td>\n",
       "      <td>F</td>\n",
       "      <td>16</td>\n",
       "      <td>U</td>\n",
       "      <td>GT3</td>\n",
       "      <td>T</td>\n",
       "      <td>3</td>\n",
       "      <td>3</td>\n",
       "      <td>other</td>\n",
       "      <td>other</td>\n",
       "      <td>...</td>\n",
       "      <td>4</td>\n",
       "      <td>3</td>\n",
       "      <td>2</td>\n",
       "      <td>1</td>\n",
       "      <td>2</td>\n",
       "      <td>5</td>\n",
       "      <td>4</td>\n",
       "      <td>6</td>\n",
       "      <td>10</td>\n",
       "      <td>10</td>\n",
       "    </tr>\n",
       "  </tbody>\n",
       "</table>\n",
       "<p>5 rows × 33 columns</p>\n",
       "</div>"
      ],
      "text/plain": [
       "  school sex  age address famsize Pstatus  Medu  Fedu     Mjob      Fjob  ...  \\\n",
       "0     GP   F   18       U     GT3       A     4     4  at_home   teacher  ...   \n",
       "1     GP   F   17       U     GT3       T     1     1  at_home     other  ...   \n",
       "2     GP   F   15       U     LE3       T     1     1  at_home     other  ...   \n",
       "3     GP   F   15       U     GT3       T     4     2   health  services  ...   \n",
       "4     GP   F   16       U     GT3       T     3     3    other     other  ...   \n",
       "\n",
       "  famrel freetime  goout  Dalc  Walc health absences  G1  G2  G3  \n",
       "0      4        3      4     1     1      3        6   5   6   6  \n",
       "1      5        3      3     1     1      3        4   5   5   6  \n",
       "2      4        3      2     2     3      3       10   7   8  10  \n",
       "3      3        2      2     1     1      5        2  15  14  15  \n",
       "4      4        3      2     1     2      5        4   6  10  10  \n",
       "\n",
       "[5 rows x 33 columns]"
      ]
     },
     "execution_count": 12,
     "metadata": {},
     "output_type": "execute_result"
    }
   ],
   "source": [
    "df.head()"
   ]
  },
  {
   "cell_type": "code",
   "execution_count": 13,
   "id": "b0464023",
   "metadata": {},
   "outputs": [
    {
     "data": {
      "text/plain": [
       "395"
      ]
     },
     "execution_count": 13,
     "metadata": {},
     "output_type": "execute_result"
    }
   ],
   "source": [
    "len(df)"
   ]
  },
  {
   "cell_type": "code",
   "execution_count": 14,
   "id": "89570fc2",
   "metadata": {},
   "outputs": [],
   "source": [
    "df['grade_A']=np.where(df['G3']*5>=80,1,0)"
   ]
  },
  {
   "cell_type": "code",
   "execution_count": 15,
   "id": "8c40ff82",
   "metadata": {},
   "outputs": [],
   "source": [
    "df['high_absenses']=np.where(df[\"absences\"]>=10,1,0)"
   ]
  },
  {
   "cell_type": "code",
   "execution_count": 16,
   "id": "51532780",
   "metadata": {},
   "outputs": [],
   "source": [
    "df['count']=1"
   ]
  },
  {
   "cell_type": "code",
   "execution_count": 17,
   "id": "c1773d27",
   "metadata": {},
   "outputs": [
    {
     "data": {
      "text/html": [
       "<div>\n",
       "<style scoped>\n",
       "    .dataframe tbody tr th:only-of-type {\n",
       "        vertical-align: middle;\n",
       "    }\n",
       "\n",
       "    .dataframe tbody tr th {\n",
       "        vertical-align: top;\n",
       "    }\n",
       "\n",
       "    .dataframe thead th {\n",
       "        text-align: right;\n",
       "    }\n",
       "</style>\n",
       "<table border=\"1\" class=\"dataframe\">\n",
       "  <thead>\n",
       "    <tr style=\"text-align: right;\">\n",
       "      <th></th>\n",
       "      <th>grade_A</th>\n",
       "      <th>high_absenses</th>\n",
       "      <th>count</th>\n",
       "    </tr>\n",
       "  </thead>\n",
       "  <tbody>\n",
       "    <tr>\n",
       "      <th>0</th>\n",
       "      <td>0</td>\n",
       "      <td>0</td>\n",
       "      <td>1</td>\n",
       "    </tr>\n",
       "    <tr>\n",
       "      <th>1</th>\n",
       "      <td>0</td>\n",
       "      <td>0</td>\n",
       "      <td>1</td>\n",
       "    </tr>\n",
       "    <tr>\n",
       "      <th>2</th>\n",
       "      <td>0</td>\n",
       "      <td>1</td>\n",
       "      <td>1</td>\n",
       "    </tr>\n",
       "    <tr>\n",
       "      <th>3</th>\n",
       "      <td>0</td>\n",
       "      <td>0</td>\n",
       "      <td>1</td>\n",
       "    </tr>\n",
       "    <tr>\n",
       "      <th>4</th>\n",
       "      <td>0</td>\n",
       "      <td>0</td>\n",
       "      <td>1</td>\n",
       "    </tr>\n",
       "  </tbody>\n",
       "</table>\n",
       "</div>"
      ],
      "text/plain": [
       "   grade_A  high_absenses  count\n",
       "0        0              0      1\n",
       "1        0              0      1\n",
       "2        0              1      1\n",
       "3        0              0      1\n",
       "4        0              0      1"
      ]
     },
     "execution_count": 17,
     "metadata": {},
     "output_type": "execute_result"
    }
   ],
   "source": [
    "df=df[['grade_A','high_absenses','count']]\n",
    "df.head()"
   ]
  },
  {
   "cell_type": "code",
   "execution_count": 18,
   "id": "d28e0439",
   "metadata": {},
   "outputs": [],
   "source": [
    "final=pd.pivot_table(\n",
    "    df,\n",
    "    values='count',\n",
    "    index=['grade_A'],\n",
    "    columns=['high_absenses'],\n",
    "    aggfunc=np.size,\n",
    "    fill_value=0\n",
    " )"
   ]
  },
  {
   "cell_type": "code",
   "execution_count": 19,
   "id": "18fe5ec4",
   "metadata": {},
   "outputs": [
    {
     "name": "stdout",
     "output_type": "stream",
     "text": [
      "high_absenses    0   1\n",
      "grade_A               \n",
      "0              277  78\n",
      "1               35   5\n"
     ]
    }
   ],
   "source": [
    "print(final)"
   ]
  },
  {
   "cell_type": "code",
   "execution_count": 20,
   "id": "f06dafb0",
   "metadata": {},
   "outputs": [
    {
     "name": "stdout",
     "output_type": "stream",
     "text": [
      "35\n"
     ]
    }
   ],
   "source": [
    "print(final.iloc[1,0])"
   ]
  },
  {
   "cell_type": "markdown",
   "id": "ba0fd165",
   "metadata": {},
   "source": [
    "### P(A)=grade>80 P(B)=absences>10\n",
    "\n",
    "### P(A/B)"
   ]
  },
  {
   "cell_type": "code",
   "execution_count": 21,
   "id": "b580d759",
   "metadata": {},
   "outputs": [
    {
     "data": {
      "text/plain": [
       "395"
      ]
     },
     "execution_count": 21,
     "metadata": {},
     "output_type": "execute_result"
    }
   ],
   "source": [
    "total=final.iloc[0,0]+final.iloc[0,1]+final.iloc[1,0]+final.iloc[1,1]\n",
    "total"
   ]
  },
  {
   "cell_type": "code",
   "execution_count": 22,
   "id": "657f75d7",
   "metadata": {},
   "outputs": [
    {
     "data": {
      "text/plain": [
       "0.10126582278481013"
      ]
     },
     "execution_count": 22,
     "metadata": {},
     "output_type": "execute_result"
    }
   ],
   "source": [
    "p_a=(final.iloc[1,0]+final.iloc[1,1])/total\n",
    "p_a"
   ]
  },
  {
   "cell_type": "code",
   "execution_count": 23,
   "id": "a95b57ab",
   "metadata": {},
   "outputs": [
    {
     "data": {
      "text/plain": [
       "0.21012658227848102"
      ]
     },
     "execution_count": 23,
     "metadata": {},
     "output_type": "execute_result"
    }
   ],
   "source": [
    "p_b=(final.iloc[0,1]+final.iloc[1,1])/total\n",
    "p_b"
   ]
  },
  {
   "cell_type": "code",
   "execution_count": 24,
   "id": "ed3abd60",
   "metadata": {},
   "outputs": [
    {
     "data": {
      "text/plain": [
       "0.012658227848101266"
      ]
     },
     "execution_count": 24,
     "metadata": {},
     "output_type": "execute_result"
    }
   ],
   "source": [
    "p_anb=final.iloc[1,1]/total\n",
    "p_anb"
   ]
  },
  {
   "cell_type": "code",
   "execution_count": 25,
   "id": "93355654",
   "metadata": {},
   "outputs": [
    {
     "data": {
      "text/plain": [
       "0.060240963855421686"
      ]
     },
     "execution_count": 25,
     "metadata": {},
     "output_type": "execute_result"
    }
   ],
   "source": [
    "p_agivenb=p_anb/p_b\n",
    "p_agivenb"
   ]
  },
  {
   "cell_type": "code",
   "execution_count": null,
   "id": "91cd2edb",
   "metadata": {},
   "outputs": [],
   "source": []
  }
 ],
 "metadata": {
  "kernelspec": {
   "display_name": "Python 3 (ipykernel)",
   "language": "python",
   "name": "python3"
  },
  "language_info": {
   "codemirror_mode": {
    "name": "ipython",
    "version": 3
   },
   "file_extension": ".py",
   "mimetype": "text/x-python",
   "name": "python",
   "nbconvert_exporter": "python",
   "pygments_lexer": "ipython3",
   "version": "3.9.7"
  }
 },
 "nbformat": 4,
 "nbformat_minor": 5
}
