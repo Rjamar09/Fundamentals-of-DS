{
 "cells": [
  {
   "cell_type": "code",
   "execution_count": 5,
   "id": "8f64bbbc",
   "metadata": {},
   "outputs": [],
   "source": [
    "# for inline plots in jupyter\n",
    "import numpy as np\n",
    "import pandas as pd\n",
    "import matplotlib.pyplot as plt\n",
    "# for index evaluation\n",
    "from IPython.display import Math, Latex\n",
    "#for displaying images\n",
    "from IPython.core.display import Image\n"
   ]
  },
  {
   "cell_type": "code",
   "execution_count": 9,
   "id": "0f60c588",
   "metadata": {},
   "outputs": [],
   "source": [
    "#import seaborn\n",
    "import seaborn as sns\n",
    "#settings for seaborn plotting style\n",
    "sns.set(color_codes=True)\n",
    "#setting for seaborn plot style\n",
    "sns.set(rc={'figure.figsize':(5,5)})"
   ]
  },
  {
   "cell_type": "markdown",
   "id": "1e518c8a",
   "metadata": {},
   "source": [
    "# UNIFORM DISTRIBUTION"
   ]
  },
  {
   "cell_type": "code",
   "execution_count": 15,
   "id": "8f702c89",
   "metadata": {},
   "outputs": [
    {
     "data": {
      "image/png": "[encoded data removed]",
      "text/plain": [
       "<Figure size 360x360 with 1 Axes>"
      ]
     },
     "metadata": {},
     "output_type": "display_data"
    }
   ],
   "source": [
    "from scipy.stats import randint\n",
    "import matplotlib.pyplot as plt\n",
    "fig,ax=plt.subplots(1,1)\n",
    "# calculate a few first moments\n",
    "\n",
    "low,high=7,31\n",
    "mean,var,skew,kurt=randint.stats(low,high,moments='mvsk')\n",
    "x=np.arange(randint.ppf(0.01,low,high),\n",
    "            randint.ppf(0.99,low,high))\n",
    "ax.plot(x,randint.pmf(x,low,high),'bo',ms=8,label='randint.pmf')\n",
    "ax.vlines(x,0,randint.pmf(x,low,high),colors='b',lw=5,alpha=0.5)\n",
    "rv=randint(low,high)\n",
    "ax.vlines(x,0,rv.pmf(x),colors='k',linestyle='-',lw=1,label='frozen pmf')\n",
    "ax.legend(loc='best',frameon=False)\n",
    "plt.show()\n",
    "prob=randint.cdf(x,low,high)\n",
    "np.allclose(x,randint.ppf(prob,low,high))\n",
    "r=randint.rvs(low,high,size=1000)\n"
   ]
  },
  {
   "cell_type": "code",
   "execution_count": 16,
   "id": "5c41e7cb",
   "metadata": {},
   "outputs": [
    {
     "data": {
      "text/plain": [
       "True"
      ]
     },
     "execution_count": 16,
     "metadata": {},
     "output_type": "execute_result"
    }
   ],
   "source": [
    "prob=randint.cdf(x,low,high)\n",
    "np.allclose(x,randint.ppf(prob,low,high))"
   ]
  },
  {
   "cell_type": "code",
   "execution_count": null,
   "id": "f1233263",
   "metadata": {},
   "outputs": [],
   "source": []
  }
 ],
 "metadata": {
  "kernelspec": {
   "display_name": "Python 3 (ipykernel)",
   "language": "python",
   "name": "python3"
  },
  "language_info": {
   "codemirror_mode": {
    "name": "ipython",
    "version": 3
   },
   "file_extension": ".py",
   "mimetype": "text/x-python",
   "name": "python",
   "nbconvert_exporter": "python",
   "pygments_lexer": "ipython3",
   "version": "3.9.7"
  }
 },
 "nbformat": 4,
 "nbformat_minor": 5
}
