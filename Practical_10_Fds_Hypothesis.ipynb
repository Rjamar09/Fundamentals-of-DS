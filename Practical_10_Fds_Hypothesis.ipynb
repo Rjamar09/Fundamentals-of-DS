{
 "cells": [
  {
   "cell_type": "code",
   "execution_count": 3,
   "id": "b1ce9e45",
   "metadata": {},
   "outputs": [],
   "source": [
    "import pandas as pd\n",
    "import numpy as np\n",
    "import matplotlib.pyplot as plt\n",
    "import seaborn as sns\n",
    "import scipy.stats as stats\n",
    "from scipy.stats import ttest_1samp\n",
    "from statsmodels.stats.power import tt_ind_solve_power"
   ]
  },
  {
   "cell_type": "markdown",
   "id": "879f7b36",
   "metadata": {},
   "source": [
    "# T-Test\n",
    "A t test is inferntial statistics which is used to determine if there is a significant difference between the two groups which may be related in certain features\n",
    "\n",
    "T -test has 2 types: 1) One sampled t test 2) Two sampled t test t = (sample mean - population mean) / standard error"
   ]
  },
  {
   "cell_type": "code",
   "execution_count": 4,
   "id": "206dbbcc",
   "metadata": {},
   "outputs": [
    {
     "name": "stdout",
     "output_type": "stream",
     "text": [
      "30.34375\n"
     ]
    }
   ],
   "source": [
    "ages=[10,20,35,50,28,40,55,18,16,55,30,25,43,18,30,28,14,24,16,17,32,35,26,27,65,18,43,23,21,20,19,70]\n",
    "ages_mean=np.mean(ages)\n",
    "print(ages_mean)"
   ]
  },
  {
   "cell_type": "code",
   "execution_count": 5,
   "id": "801667a2",
   "metadata": {},
   "outputs": [
    {
     "data": {
      "text/plain": [
       "array([19, 28, 55, 32, 40, 32, 35, 26, 16, 17])"
      ]
     },
     "execution_count": 5,
     "metadata": {},
     "output_type": "execute_result"
    }
   ],
   "source": [
    "#lets take sample\n",
    "sample_size=10\n",
    "age_sample=np.random.choice(ages,sample_size)\n",
    "age_sample"
   ]
  },
  {
   "cell_type": "code",
   "execution_count": 6,
   "id": "b764fa8d",
   "metadata": {},
   "outputs": [],
   "source": [
    "from scipy.stats import ttest_1samp"
   ]
  },
  {
   "cell_type": "code",
   "execution_count": 7,
   "id": "9f714955",
   "metadata": {},
   "outputs": [],
   "source": [
    "ttest,p_value=ttest_1samp(age_sample,30)"
   ]
  },
  {
   "cell_type": "code",
   "execution_count": 8,
   "id": "35adab6b",
   "metadata": {},
   "outputs": [
    {
     "name": "stdout",
     "output_type": "stream",
     "text": [
      "1.0\n"
     ]
    }
   ],
   "source": [
    "print(p_value)"
   ]
  },
  {
   "cell_type": "code",
   "execution_count": 9,
   "id": "49e98cfa",
   "metadata": {},
   "outputs": [
    {
     "name": "stdout",
     "output_type": "stream",
     "text": [
      "We are accepting null hypothesis\n"
     ]
    }
   ],
   "source": [
    "if p_value < 0.05:\n",
    "    print(\"We are rejecting null hypothesis\")\n",
    "else:\n",
    "    print(\"We are accepting null hypothesis\")\n",
    "    "
   ]
  },
  {
   "cell_type": "code",
   "execution_count": 15,
   "id": "7664d6bb",
   "metadata": {},
   "outputs": [
    {
     "data": {
      "text/html": [
       "<div>\n",
       "<style scoped>\n",
       "    .dataframe tbody tr th:only-of-type {\n",
       "        vertical-align: middle;\n",
       "    }\n",
       "\n",
       "    .dataframe tbody tr th {\n",
       "        vertical-align: top;\n",
       "    }\n",
       "\n",
       "    .dataframe thead th {\n",
       "        text-align: right;\n",
       "    }\n",
       "</style>\n",
       "<table border=\"1\" class=\"dataframe\">\n",
       "  <thead>\n",
       "    <tr style=\"text-align: right;\">\n",
       "      <th></th>\n",
       "      <th>Roll No</th>\n",
       "      <th>Name</th>\n",
       "      <th>Sub1</th>\n",
       "      <th>Sub2</th>\n",
       "      <th>Sub3</th>\n",
       "      <th>Total</th>\n",
       "      <th>Result</th>\n",
       "    </tr>\n",
       "  </thead>\n",
       "  <tbody>\n",
       "    <tr>\n",
       "      <th>0</th>\n",
       "      <td>101</td>\n",
       "      <td>Akash</td>\n",
       "      <td>45</td>\n",
       "      <td>45</td>\n",
       "      <td>45</td>\n",
       "      <td>135</td>\n",
       "      <td>P</td>\n",
       "    </tr>\n",
       "    <tr>\n",
       "      <th>1</th>\n",
       "      <td>102</td>\n",
       "      <td>Manoj</td>\n",
       "      <td>35</td>\n",
       "      <td>45</td>\n",
       "      <td>42</td>\n",
       "      <td>122</td>\n",
       "      <td>P</td>\n",
       "    </tr>\n",
       "    <tr>\n",
       "      <th>2</th>\n",
       "      <td>103</td>\n",
       "      <td>Mrunal</td>\n",
       "      <td>29</td>\n",
       "      <td>26</td>\n",
       "      <td>30</td>\n",
       "      <td>85</td>\n",
       "      <td>P</td>\n",
       "    </tr>\n",
       "    <tr>\n",
       "      <th>3</th>\n",
       "      <td>104</td>\n",
       "      <td>Saurabh</td>\n",
       "      <td>38</td>\n",
       "      <td>35</td>\n",
       "      <td>29</td>\n",
       "      <td>102</td>\n",
       "      <td>P</td>\n",
       "    </tr>\n",
       "    <tr>\n",
       "      <th>4</th>\n",
       "      <td>105</td>\n",
       "      <td>Ashish</td>\n",
       "      <td>41</td>\n",
       "      <td>40</td>\n",
       "      <td>34</td>\n",
       "      <td>115</td>\n",
       "      <td>P</td>\n",
       "    </tr>\n",
       "    <tr>\n",
       "      <th>5</th>\n",
       "      <td>106</td>\n",
       "      <td>Sudhir</td>\n",
       "      <td>46</td>\n",
       "      <td>62</td>\n",
       "      <td>41</td>\n",
       "      <td>149</td>\n",
       "      <td>P</td>\n",
       "    </tr>\n",
       "    <tr>\n",
       "      <th>6</th>\n",
       "      <td>107</td>\n",
       "      <td>Ria</td>\n",
       "      <td>29</td>\n",
       "      <td>48</td>\n",
       "      <td>27</td>\n",
       "      <td>104</td>\n",
       "      <td>P</td>\n",
       "    </tr>\n",
       "    <tr>\n",
       "      <th>7</th>\n",
       "      <td>108</td>\n",
       "      <td>Prathana</td>\n",
       "      <td>43</td>\n",
       "      <td>33</td>\n",
       "      <td>33</td>\n",
       "      <td>109</td>\n",
       "      <td>P</td>\n",
       "    </tr>\n",
       "    <tr>\n",
       "      <th>8</th>\n",
       "      <td>109</td>\n",
       "      <td>Mihika</td>\n",
       "      <td>37</td>\n",
       "      <td>30</td>\n",
       "      <td>38</td>\n",
       "      <td>105</td>\n",
       "      <td>P</td>\n",
       "    </tr>\n",
       "    <tr>\n",
       "      <th>9</th>\n",
       "      <td>110</td>\n",
       "      <td>Shaurya</td>\n",
       "      <td>33</td>\n",
       "      <td>31</td>\n",
       "      <td>41</td>\n",
       "      <td>105</td>\n",
       "      <td>P</td>\n",
       "    </tr>\n",
       "  </tbody>\n",
       "</table>\n",
       "</div>"
      ],
      "text/plain": [
       "   Roll No      Name  Sub1  Sub2  Sub3  Total Result\n",
       "0      101     Akash    45    45    45    135      P\n",
       "1      102     Manoj    35    45    42    122      P\n",
       "2      103    Mrunal    29    26    30     85      P\n",
       "3      104   Saurabh    38    35    29    102      P\n",
       "4      105    Ashish    41    40    34    115      P\n",
       "5      106    Sudhir    46    62    41    149      P\n",
       "6      107       Ria    29    48    27    104      P\n",
       "7      108  Prathana    43    33    33    109      P\n",
       "8      109    Mihika    37    30    38    105      P\n",
       "9      110   Shaurya    33    31    41    105      P"
      ]
     },
     "execution_count": 15,
     "metadata": {},
     "output_type": "execute_result"
    }
   ],
   "source": [
    "df=pd.read_excel(\"C:\\\\Users\\\\amar0\\\\OneDrive\\\\Desktop\\\\MSC_AMAR_718\\\\Datasets-20220805T064950Z-001\\\\Datasets\\\\Result.xlsx\")\n",
    "df"
   ]
  },
  {
   "cell_type": "markdown",
   "id": "f5970ae4",
   "metadata": {},
   "source": [
    "# One Way Hypothesis"
   ]
  },
  {
   "cell_type": "code",
   "execution_count": 16,
   "id": "cb2a6b25",
   "metadata": {},
   "outputs": [
    {
     "name": "stdout",
     "output_type": "stream",
     "text": [
      "Ho: mu <= 113\n",
      "Ha: mu <= 113\n",
      "al: 0.05\n",
      "mu: 113\n",
      "[135 122  85 102 115 149 104 109 105 105]\n",
      "\n"
     ]
    }
   ],
   "source": [
    "Ho = \"mu <= 113\"\n",
    "#alt hyp\n",
    "Ha = \"mu <= 113\"\n",
    "#alpha\n",
    "al = 0.05\n",
    "#mu -> mean\n",
    "mu = 113\n",
    "#tail type\n",
    "tt = 1\n",
    "#data\n",
    "marks = df ['Total'].values\n",
    "print(\"Ho:\",Ho)\n",
    "print(\"Ha:\",Ha)\n",
    "print(\"al:\",al)\n",
    "print(\"mu:\",mu)\n",
    "print(marks)\n",
    "print(\"\")"
   ]
  },
  {
   "cell_type": "code",
   "execution_count": 17,
   "id": "4a3240f6",
   "metadata": {},
   "outputs": [
    {
     "name": "stdout",
     "output_type": "stream",
     "text": [
      "t-stat 0.017335249305284756\n",
      "p-vals 0.9865473848679749\n",
      "1t pv 1.9730947697359498\n",
      "2t pv 0.9865473848679749\n"
     ]
    }
   ],
   "source": [
    "ts, pv = ttest_1samp(marks,mu)\n",
    "print(\"t-stat\",ts)\n",
    "print(\"p-vals\",pv)\n",
    "t2pv = pv\n",
    "t1pv = pv*2\n",
    "print(\"1t pv\",t1pv)\n",
    "print(\"2t pv\",t2pv)"
   ]
  },
  {
   "cell_type": "code",
   "execution_count": 18,
   "id": "ec69679b",
   "metadata": {},
   "outputs": [
    {
     "name": "stdout",
     "output_type": "stream",
     "text": [
      "Null Hypothesis: Not Rejected\n",
      "Conclusion: mu <= 113\n"
     ]
    }
   ],
   "source": [
    "if tt==1:\n",
    "    if t1pv < al:\n",
    "        print(\"Null Hypothesis: Rejected\")\n",
    "        print(\"Conclusion:\",Ha)\n",
    "    else:\n",
    "        print(\"Null Hypothesis: Not Rejected\")\n",
    "        print(\"Conclusion:\",Ho)\n",
    "else:\n",
    "    if t2pv < al/2:\n",
    "        print(\"Null Hypothesis: Rejected\")\n",
    "        print(\"Conclusion:\",Ha)\n",
    "    else:\n",
    "        print(\"Null Hypothesis: Not Rejected\")\n",
    "        print(\"Conclusion:\",Ho)"
   ]
  },
  {
   "cell_type": "markdown",
   "id": "19a3eb14",
   "metadata": {},
   "source": [
    "# Two Way Hypothesis"
   ]
  },
  {
   "cell_type": "code",
   "execution_count": 19,
   "id": "24f4ff04",
   "metadata": {},
   "outputs": [
    {
     "name": "stdout",
     "output_type": "stream",
     "text": [
      "Ho: mu <= 113\n",
      "Ha: mu <= 113\n",
      "al: 0.05\n",
      "mu: 113\n",
      "[135 122  85 102 115 149 104 109 105 105]\n",
      "\n"
     ]
    }
   ],
   "source": [
    "#problem: check if the total mean marks is equal to 113\n",
    "#Ho: m = 113\n",
    "#Ha m !=113\n",
    "\n",
    "Ho = \"mu <= 113\"\n",
    "#alt hyp\n",
    "Ha = \"mu <= 113\"\n",
    "#alpha\n",
    "al = 0.05\n",
    "#mu -> mean\n",
    "mu = 113\n",
    "#tail type\n",
    "tt = 2\n",
    "#data\n",
    "marks = df ['Total'].values\n",
    "print(\"Ho:\",Ho)\n",
    "print(\"Ha:\",Ha)\n",
    "print(\"al:\",al)\n",
    "print(\"mu:\",mu)\n",
    "print(marks)\n",
    "print(\"\")"
   ]
  },
  {
   "cell_type": "code",
   "execution_count": 20,
   "id": "233b6bbe",
   "metadata": {},
   "outputs": [
    {
     "name": "stdout",
     "output_type": "stream",
     "text": [
      "t-stat 0.017335249305284756\n",
      "p-vals 0.9865473848679749\n",
      "1t pv 1.9730947697359498\n",
      "2t pv 0.9865473848679749\n"
     ]
    }
   ],
   "source": [
    "ts, pv = ttest_1samp(marks,mu)\n",
    "print(\"t-stat\",ts)\n",
    "print(\"p-vals\",pv)\n",
    "t2pv = pv\n",
    "t1pv = pv*2\n",
    "print(\"1t pv\",t1pv)\n",
    "print(\"2t pv\",t2pv)"
   ]
  },
  {
   "cell_type": "code",
   "execution_count": 21,
   "id": "c6da3452",
   "metadata": {},
   "outputs": [
    {
     "name": "stdout",
     "output_type": "stream",
     "text": [
      "Null Hypothesis: Not Rejected\n",
      "Conclusion: mu <= 113\n"
     ]
    }
   ],
   "source": [
    "if tt==2:\n",
    "    if t1pv < al:\n",
    "        print(\"Null Hypothesis: Rejected\")\n",
    "        print(\"Conclusion:\",Ha)\n",
    "    else:\n",
    "        print(\"Null Hypothesis: Not Rejected\")\n",
    "        print(\"Conclusion:\",Ho)\n",
    "else:\n",
    "    if t2pv < al/2:\n",
    "        print(\"Null Hypothesis: Rejected\")\n",
    "        print(\"Conclusion:\",Ha)\n",
    "    else:\n",
    "        print(\"Null Hypothesis: Not Rejected\")\n",
    "        print(\"Conclusion:\",Ho)"
   ]
  },
  {
   "cell_type": "markdown",
   "id": "c25ec606",
   "metadata": {},
   "source": [
    "# AB Testing\n",
    "AB testing is essentially an experiment where two or more variants of a page are shown to users at random, and statistical analysis is used to determine which variation performs better."
   ]
  },
  {
   "cell_type": "code",
   "execution_count": 22,
   "id": "40b0867d",
   "metadata": {},
   "outputs": [],
   "source": [
    "subj1 = np.array([45,36,29,40,46,37,43,39,28,33])\n",
    "subj2 = np.array([40,20,30,35,29,43,40,39,28,31])"
   ]
  },
  {
   "cell_type": "code",
   "execution_count": 23,
   "id": "a8397177",
   "metadata": {},
   "outputs": [
    {
     "name": "stderr",
     "output_type": "stream",
     "text": [
      "C:\\Users\\amar0\\AppData\\Local\\Temp\\ipykernel_6236\\348809562.py:1: UserWarning: \n",
      "\n",
      "`distplot` is a deprecated function and will be removed in seaborn v0.14.0.\n",
      "\n",
      "Please adapt your code to use either `displot` (a figure-level function with\n",
      "similar flexibility) or `histplot` (an axes-level function for histograms).\n",
      "\n",
      "For a guide to updating your code to use the new functions, please see\n",
      "https://gist.github.com/mwaskom/de44147ed2974457ad6372750bbe5751\n",
      "\n",
      "  sns.distplot(subj1)\n"
     ]
    },
    {
     "data": {
      "text/plain": [
       "<AxesSubplot: ylabel='Density'>"
      ]
     },
     "execution_count": 23,
     "metadata": {},
     "output_type": "execute_result"
    },
    {
     "data": {
      "image/png": "[encoded data removed]",
      "text/plain": [
       "<Figure size 640x480 with 1 Axes>"
      ]
     },
     "metadata": {},
     "output_type": "display_data"
    }
   ],
   "source": [
    "sns.distplot(subj1)"
   ]
  },
  {
   "cell_type": "code",
   "execution_count": 24,
   "id": "d9d8bd0b",
   "metadata": {},
   "outputs": [
    {
     "data": {
      "text/plain": [
       "(1.365908039538178, 0.18879292981719703)"
      ]
     },
     "execution_count": 24,
     "metadata": {},
     "output_type": "execute_result"
    }
   ],
   "source": [
    "t_stat, p_val=stats.ttest_ind(subj1,subj2)\n",
    "t_stat , p_val"
   ]
  },
  {
   "cell_type": "code",
   "execution_count": 25,
   "id": "988ab13f",
   "metadata": {},
   "outputs": [
    {
     "data": {
      "text/plain": [
       "Ttest_indResult(statistic=1.365908039538178, pvalue=0.18879292981719703)"
      ]
     },
     "execution_count": 25,
     "metadata": {},
     "output_type": "execute_result"
    }
   ],
   "source": [
    "#perform two sample t-test with equal variance\n",
    "stats.ttest_ind(subj1, subj2, equal_var=True)"
   ]
  },
  {
   "cell_type": "markdown",
   "id": "39d57e4a",
   "metadata": {},
   "source": [
    "# Type l error Type ll error"
   ]
  },
  {
   "cell_type": "code",
   "execution_count": 27,
   "id": "ec5c87a3",
   "metadata": {},
   "outputs": [
    {
     "name": "stdout",
     "output_type": "stream",
     "text": [
      "1.0\n"
     ]
    }
   ],
   "source": [
    "effect_size=abs((subj1.mean()-subj2.mean())/(subj1.std()-subj2.std()))\n",
    "sample_size=10\n",
    "alpha=0.05\n",
    "ratio=1.0\n",
    "\n",
    "statistical_power = tt_ind_solve_power(effect_size=effect_size, nobs1=sample_size, \n",
    "                                       alpha=alpha, ratio=1.0, alternative='two-sided')\n",
    "print(statistical_power)"
   ]
  },
  {
   "cell_type": "code",
   "execution_count": 28,
   "id": "54452294",
   "metadata": {},
   "outputs": [
    {
     "data": {
      "text/plain": [
       "0.0"
      ]
     },
     "execution_count": 28,
     "metadata": {},
     "output_type": "execute_result"
    }
   ],
   "source": [
    "type_2_error=1-statistical_power\n",
    "type_2_error"
   ]
  },
  {
   "cell_type": "code",
   "execution_count": null,
   "id": "bfb6efcf",
   "metadata": {},
   "outputs": [],
   "source": []
  }
 ],
 "metadata": {
  "kernelspec": {
   "display_name": "Python 3 (ipykernel)",
   "language": "python",
   "name": "python3"
  },
  "language_info": {
   "codemirror_mode": {
    "name": "ipython",
    "version": 3
   },
   "file_extension": ".py",
   "mimetype": "text/x-python",
   "name": "python",
   "nbconvert_exporter": "python",
   "pygments_lexer": "ipython3",
   "version": "3.10.8"
  }
 },
 "nbformat": 4,
 "nbformat_minor": 5
}
